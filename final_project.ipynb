{
  "cells": [
    {
      "cell_type": "markdown",
      "metadata": {
        "id": "yAU17DIcY05D"
      },
      "source": [
        "# Healthcare Desierto Senior Capstone Project\n",
        "Author: Danielle N. Cunes<br>\n",
        "Date: Spring 2025"
      ]
    },
    {
      "cell_type": "markdown",
      "metadata": {
        "id": "eVt21nVfLXlK"
      },
      "source": [
        "# #Step 1: Search for Healthcare Facilities\n",
        "\n",
        "Create Google Places API and load it in\n",
        "\n",
        "Save the info from the facility\n",
        "\n",
        "Things to be saved\n",
        "\n",
        "*   Name of facility\n",
        "*   Address\n",
        "*   Lat/Long\n",
        "*   Place ID\n",
        "*   Business Status"
      ]
    },
    {
      "cell_type": "markdown",
      "metadata": {
        "id": "x-36_jCHYIuL"
      },
      "source": [
        "Load libraries"
      ]
    },
    {
      "cell_type": "code",
      "execution_count": null,
      "metadata": {
        "id": "TQFMPg4uYLAI"
      },
      "outputs": [],
      "source": [
        "import json\n",
        "import requests\n",
        "import time\n",
        "import pandas as pd\n",
        "from geopy.distance import geodesic\n",
        "from math import radians, cos, sin, sqrt, atan2\n",
        "from tqdm import tqdm\n",
        "from openpyxl import load_workbook\n",
        "import itertools"
      ]
    },
    {
      "cell_type": "markdown",
      "metadata": {
        "id": "y27hHCBOUwTl"
      },
      "source": [
        "Load in Google Places API"
      ]
    },
    {
      "cell_type": "code",
      "execution_count": null,
      "metadata": {
        "id": "GSnjZth-U1aw"
      },
      "outputs": [],
      "source": [
        "#Load in Google Places API using json format\n",
        "with open('config.json') as config_file:\n",
        "    config = json.load(config_file)\n",
        "\n",
        "API_KEY = config['API_KEY']\n",
        "\n",
        "if not API_KEY:\n",
        "  raise ValueError(\"API_KEY not found in config.json\")"
      ]
    },
    {
      "cell_type": "markdown",
      "metadata": {
        "id": "uJBUIJjJ9_lz"
      },
      "source": [
        "Create helper functions to retreive the URLS"
      ]
    },
    {
      "cell_type": "markdown",
      "metadata": {
        "id": "qPyf9XzK-eK6"
      },
      "source": [
        "get_base_url function"
      ]
    },
    {
      "cell_type": "code",
      "execution_count": null,
      "metadata": {
        "id": "IR_TU2Uc-Cs_"
      },
      "outputs": [],
      "source": [
        "def get_base_url():\n",
        "  return \"https://places.googleapis.com/v1/places\""
      ]
    },
    {
      "cell_type": "markdown",
      "metadata": {
        "id": "xEQU5BWZ-g2H"
      },
      "source": [
        "get_search_url"
      ]
    },
    {
      "cell_type": "code",
      "execution_count": null,
      "metadata": {
        "id": "gHWhIOwb-rfG"
      },
      "outputs": [],
      "source": [
        "def get_search_url():\n",
        "  return f\"{get_base_url()}:searchText\""
      ]
    },
    {
      "cell_type": "markdown",
      "metadata": {
        "id": "_K8HEuBG-ysL"
      },
      "source": [
        "get_facility_details_url function\n"
      ]
    },
    {
      "cell_type": "code",
      "execution_count": null,
      "metadata": {
        "id": "VE282R2R_DOP"
      },
      "outputs": [],
      "source": [
        "def get_facility_details_url(place_id):\n",
        "  return f\"{get_base_url()}/{place_id}\""
      ]
    },
    {
      "cell_type": "markdown",
      "metadata": {
        "id": "z4eZs7AdZA5s"
      },
      "source": [
        "Set up location and search_keywords"
      ]
    },
    {
      "cell_type": "code",
      "execution_count": null,
      "metadata": {
        "id": "OLgkutXaZGHa"
      },
      "outputs": [],
      "source": [
        "location = 'Tucson, Arizona'\n",
        "search_keywords = ['healthcare facility', 'healthcare', 'health', 'clinic', 'hospital', 'medical institution', 'health center', 'healthcare center', 'medical', 'clinica', 'clínica', 'medica', 'primary care']"
      ]
    },
    {
      "cell_type": "markdown",
      "metadata": {
        "id": "xEhmHMWl-BKS"
      },
      "source": [
        "Create filtering function to only focus on results matching hospitals, clinics, and primary care doctor offices"
      ]
    },
    {
      "cell_type": "code",
      "execution_count": null,
      "metadata": {
        "id": "hTSlgXG9-IX3"
      },
      "outputs": [],
      "source": [
        "def target_facility(name):\n",
        "  name = name.lower()\n",
        "  return any(\n",
        "      keyword in name\n",
        "      for keyword in [\"hospital\", \"clinic\", \"primary care\", \"health center\", \"urgent care\", \"family practice\", \"clinica\", 'health']\n",
        "  )"
      ]
    },
    {
      "cell_type": "markdown",
      "metadata": {
        "id": "i2p2YSKsZXsZ"
      },
      "source": [
        "Create search_places function to search for healthcare facilities that match the keyword search"
      ]
    },
    {
      "cell_type": "code",
      "execution_count": null,
      "metadata": {
        "id": "9xCFcg_iLhBE"
      },
      "outputs": [],
      "source": [
        "# Create search_places function\n",
        "def get_business_types(place_id, api_key):\n",
        "  url = \"https://maps.googleapis.com/maps/api/place/details/json\"\n",
        "  params = {\n",
        "      \"place_id\": place_id,\n",
        "      \"fields\": \"types\",\n",
        "      \"key\": api_key\n",
        "  }\n",
        "  response = requests.get(url, params=params)\n",
        "  if response.ok:\n",
        "    data = response.json()\n",
        "    return data.get(\"result\", {}).get(\"types\", [])\n",
        "  else:\n",
        "    print(f\"failed to get types for {place_id}\")\n",
        "    return []"
      ]
    },
    {
      "cell_type": "code",
      "execution_count": null,
      "metadata": {
        "id": "3ZekJv4xZhtW"
      },
      "outputs": [],
      "source": [
        "# Create search_places function\n",
        "def search_places(location, keywords):\n",
        "\n",
        "  # Save results of api call\n",
        "  healthcare = []\n",
        "\n",
        "  # Create a set to remove duplicates\n",
        "  place_ids = set()\n",
        "\n",
        "  for keyword in keywords:\n",
        "    query = f\"{keyword} in {location}\"\n",
        "\n",
        "    url = f\"{get_search_url()}?key={API_KEY}\"\n",
        "\n",
        "    body = {\n",
        "        \"textQuery\": query\n",
        "    }\n",
        "\n",
        "    params = {\n",
        "        \"fields\": \"places.displayName,places.formattedAddress,places.location,places.id,places.businessStatus\"\n",
        "    }\n",
        "\n",
        "    # Send post request\n",
        "    response = requests.post(url, params=params, json=body)\n",
        "\n",
        "    # check if the reponse was succesful, if not print error message\n",
        "    if not response.ok:\n",
        "      print(f\"Error: Request failed with status code {response.status_code} - {response.reason}\")\n",
        "      continue\n",
        "\n",
        "    try:\n",
        "      data = response.json()\n",
        "      time.sleep(2)\n",
        "    except Exception as e:\n",
        "      print(f\" JSON decode error: {e}\")\n",
        "      continue\n",
        "\n",
        "    # Grab the name, longitude and latitude from the healthcare facility that matches the keyword and add to healthcare list\n",
        "    if data.get(\"places\"):\n",
        "      for place in data[\"places\"]:\n",
        "        name = place['displayName']['text']\n",
        "        lat = place['location']['latitude']\n",
        "        lon = place['location']['longitude']\n",
        "        dedup_key = (name.lower(), lat, lon)\n",
        "\n",
        "        if dedup_key not in place_ids:\n",
        "          place_ids.add(dedup_key)\n",
        "\n",
        "          types = get_business_types(place['id'], API_KEY)\n",
        "\n",
        "          entry = {\n",
        "              'name': name,\n",
        "              'address': place['formattedAddress'],\n",
        "              'latitude': lat,\n",
        "              'longitude': lon,\n",
        "              'place_id': place['id'],\n",
        "              'business_status': place.get('businessStatus', \"UNKNOWN\"),\n",
        "              'matched_keyword': keyword,\n",
        "              'types': types\n",
        "          }\n",
        "\n",
        "          healthcare.append(entry)\n",
        "    else:\n",
        "      # Print No results found for the keyword\n",
        "      print(f\"No results found for {query}\")\n",
        "\n",
        "    time.sleep(1)\n",
        "\n",
        "  return healthcare"
      ]
    },
    {
      "cell_type": "markdown",
      "metadata": {
        "id": "9TqGIg5tAWY1"
      },
      "source": [
        "# Create results variable to hold locations found"
      ]
    },
    {
      "cell_type": "code",
      "execution_count": null,
      "metadata": {
        "id": "5caHIqVUNw6C"
      },
      "outputs": [],
      "source": [
        "# Search for Healthcare Facilities\n",
        "raw_facilities = search_places(location, search_keywords)"
      ]
    },
    {
      "cell_type": "markdown",
      "metadata": {
        "id": "B54STwbPa7-I"
      },
      "source": [
        "Save the raw_facilities results to results variable"
      ]
    },
    {
      "cell_type": "code",
      "execution_count": null,
      "metadata": {
        "id": "k2RGGVTdbDPw"
      },
      "outputs": [],
      "source": [
        "results = pd.DataFrame(raw_facilities)"
      ]
    },
    {
      "cell_type": "markdown",
      "metadata": {
        "id": "2XyevavbpEfv"
      },
      "source": [
        "Save the filtered facilities to dataframe and to an excel workbook"
      ]
    },
    {
      "cell_type": "code",
      "execution_count": null,
      "metadata": {
        "id": "Yu9iYw4toepu"
      },
      "outputs": [],
      "source": [
        "# Save results to an Excel Workbook\n",
        "results.to_excel(\"raw_facilities.xlsx\", index=False)"
      ]
    },
    {
      "cell_type": "markdown",
      "metadata": {
        "id": "Q6bxHMPIpKM2"
      },
      "source": [
        "Download the Excel Workbook to save"
      ]
    },
    {
      "cell_type": "code",
      "execution_count": null,
      "metadata": {
        "colab": {
          "base_uri": "https://localhost:8080/",
          "height": 17
        },
        "id": "5e77KvKyolOn",
        "outputId": "ffc5fcd6-efd9-4a2e-a387-65788bfdcbe7"
      },
      "outputs": [
        {
          "data": {
            "application/javascript": "\n    async function download(id, filename, size) {\n      if (!google.colab.kernel.accessAllowed) {\n        return;\n      }\n      const div = document.createElement('div');\n      const label = document.createElement('label');\n      label.textContent = `Downloading \"${filename}\": `;\n      div.appendChild(label);\n      const progress = document.createElement('progress');\n      progress.max = size;\n      div.appendChild(progress);\n      document.body.appendChild(div);\n\n      const buffers = [];\n      let downloaded = 0;\n\n      const channel = await google.colab.kernel.comms.open(id);\n      // Send a message to notify the kernel that we're ready.\n      channel.send({})\n\n      for await (const message of channel.messages) {\n        // Send a message to notify the kernel that we're ready.\n        channel.send({})\n        if (message.buffers) {\n          for (const buffer of message.buffers) {\n            buffers.push(buffer);\n            downloaded += buffer.byteLength;\n            progress.value = downloaded;\n          }\n        }\n      }\n      const blob = new Blob(buffers, {type: 'application/binary'});\n      const a = document.createElement('a');\n      a.href = window.URL.createObjectURL(blob);\n      a.download = filename;\n      div.appendChild(a);\n      a.click();\n      div.remove();\n    }\n  ",
            "text/plain": [
              "<IPython.core.display.Javascript object>"
            ]
          },
          "metadata": {},
          "output_type": "display_data"
        },
        {
          "data": {
            "application/javascript": "download(\"download_ed6a3fbb-23e4-4851-8043-89846db84eb4\", \"raw_facilities.xlsx\", 14625)",
            "text/plain": [
              "<IPython.core.display.Javascript object>"
            ]
          },
          "metadata": {},
          "output_type": "display_data"
        }
      ],
      "source": [
        "#download excel workbook\n",
        "from google.colab import files\n",
        "files.download(\"raw_facilities.xlsx\")"
      ]
    },
    {
      "cell_type": "markdown",
      "metadata": {
        "id": "EyLKocYUVxJE"
      },
      "source": [
        "Filter the Excel file to only keep the rows that are not highlighted"
      ]
    },
    {
      "cell_type": "code",
      "execution_count": null,
      "metadata": {
        "id": "TZHY9aHjFqQK"
      },
      "outputs": [],
      "source": [
        "def filter_excel_file(path=\"raw_facilities.xlsx\", sheet_name=\"raw_facilities\"):\n",
        "  workbook = load_workbook(path, data_only=True)\n",
        "  worksheet = workbook[sheet_name] if sheet_name in workbook.sheetnames else workbook.active\n",
        "\n",
        "  data = []\n",
        "  for row in worksheet.iter_rows(values_only=False):\n",
        "    first_cell = row[0]\n",
        "    fill = first_cell.fill.start_color\n",
        "\n",
        "    # Get the rgb color\n",
        "    color = fill.rgb if fill.type == 'rgb' else fill.index\n",
        "    if not color:\n",
        "      continue\n",
        "\n",
        "    #convert tp uppercase\n",
        "    color = color.upper()\n",
        "\n",
        "    # Define the rgb hex colors to compare\n",
        "    blue_rgb = 'FF00B0F0'\n",
        "    orange_rgb = 'FFFFC000'\n",
        "    yellow_rgb = 'FFFFFF00'\n",
        "\n",
        "    # filter out the colors, exclude yellow, keep blue and orange\n",
        "    if color == yellow_rgb:\n",
        "      continue\n",
        "    elif color == blue_rgb:\n",
        "      category = 'primary_care'\n",
        "    elif color == orange_rgb:\n",
        "      category = 'hospital'\n",
        "    else:\n",
        "      continue\n",
        "\n",
        "    # Extract the values of the row\n",
        "    row_values = [cell.value for cell in row]\n",
        "\n",
        "    while len(row_values) < 8:\n",
        "      row_values.append(None)\n",
        "\n",
        "    # Name the columns\n",
        "    columns = ['name', 'address', 'latitude', 'longitude', 'place_id', 'business_status', 'matched_keyword', 'business_type']\n",
        "\n",
        "    # Add the category column\n",
        "    row_values.append(category)\n",
        "    columns.append('category')\n",
        "\n",
        "    # Append the formatted row\n",
        "    data.append(dict(zip(columns, row_values)))\n",
        "\n",
        "  return data"
      ]
    },
    {
      "cell_type": "markdown",
      "metadata": {
        "id": "FbTm37nkw6xr"
      },
      "source": [
        "Filter out unrelated facilities"
      ]
    },
    {
      "cell_type": "code",
      "execution_count": null,
      "metadata": {
        "id": "tXGLW_qmw99I"
      },
      "outputs": [],
      "source": [
        "approved_facilities = filter_excel_file(\"raw_facilities.xlsx\")"
      ]
    },
    {
      "cell_type": "code",
      "execution_count": null,
      "metadata": {
        "id": "I_VIIoqw-CmT"
      },
      "outputs": [],
      "source": [
        "# saved approved facilities to xlsx\n",
        "approved_facilities_df = pd.DataFrame(approved_facilities)\n",
        "approved_facilities_df.to_excel(\"approved_facilities.xlsx\", index=False)"
      ]
    },
    {
      "cell_type": "code",
      "execution_count": null,
      "metadata": {
        "colab": {
          "base_uri": "https://localhost:8080/",
          "height": 17
        },
        "id": "mSGn1Neq-IpL",
        "outputId": "5bf46d91-5552-4eb5-ea37-5abc1d3125e5"
      },
      "outputs": [
        {
          "data": {
            "application/javascript": "\n    async function download(id, filename, size) {\n      if (!google.colab.kernel.accessAllowed) {\n        return;\n      }\n      const div = document.createElement('div');\n      const label = document.createElement('label');\n      label.textContent = `Downloading \"${filename}\": `;\n      div.appendChild(label);\n      const progress = document.createElement('progress');\n      progress.max = size;\n      div.appendChild(progress);\n      document.body.appendChild(div);\n\n      const buffers = [];\n      let downloaded = 0;\n\n      const channel = await google.colab.kernel.comms.open(id);\n      // Send a message to notify the kernel that we're ready.\n      channel.send({})\n\n      for await (const message of channel.messages) {\n        // Send a message to notify the kernel that we're ready.\n        channel.send({})\n        if (message.buffers) {\n          for (const buffer of message.buffers) {\n            buffers.push(buffer);\n            downloaded += buffer.byteLength;\n            progress.value = downloaded;\n          }\n        }\n      }\n      const blob = new Blob(buffers, {type: 'application/binary'});\n      const a = document.createElement('a');\n      a.href = window.URL.createObjectURL(blob);\n      a.download = filename;\n      div.appendChild(a);\n      a.click();\n      div.remove();\n    }\n  ",
            "text/plain": [
              "<IPython.core.display.Javascript object>"
            ]
          },
          "metadata": {},
          "output_type": "display_data"
        },
        {
          "data": {
            "application/javascript": "download(\"download_df7ee8a8-7ee7-4bca-b736-3d7295b947bd\", \"approved_facilities.xlsx\", 10128)",
            "text/plain": [
              "<IPython.core.display.Javascript object>"
            ]
          },
          "metadata": {},
          "output_type": "display_data"
        }
      ],
      "source": [
        "#downloadthe xlsx\n",
        "from google.colab import files\n",
        "files.download(\"approved_facilities.xlsx\")"
      ]
    },
    {
      "cell_type": "markdown",
      "metadata": {
        "id": "pfFZLCJJLy9Z"
      },
      "source": [
        "#Step 2: Filter by business status\n",
        "\n",
        "Keep count of number of facilities\n",
        "\n",
        "Operational\n",
        "\n",
        "*Closed Temporarily\n",
        "\n",
        "*Closed Permanently"
      ]
    },
    {
      "cell_type": "markdown",
      "metadata": {
        "id": "QYhoMkUSsQIk"
      },
      "source": [
        "Create function that filters through facilities found by keyword match and keeps only faicilities that are currently operational"
      ]
    },
    {
      "cell_type": "code",
      "execution_count": null,
      "metadata": {
        "id": "ZhBwQfiztSD6"
      },
      "outputs": [],
      "source": [
        "# Create operational_facilities function\n",
        "def operational_facilities(places):\n",
        "  operational = []\n",
        "  counts = {\n",
        "      \"total\": len(places),\n",
        "      \"operational\": 0,\n",
        "      \"unknown_status\": 0\n",
        "  }\n",
        "\n",
        "  for place in places:\n",
        "    status = place.get(\"business_status\", \"UNKNOWN\")\n",
        "\n",
        "    if status == \"OPERATIONAL\":\n",
        "      operational.append(place)\n",
        "      counts[\"operational\"] += 1\n",
        "    else:\n",
        "      counts[\"unknown_status\"] += 1\n",
        "\n",
        "  return operational, counts"
      ]
    },
    {
      "cell_type": "markdown",
      "metadata": {
        "id": "i6C8CZyYxznn"
      },
      "source": [
        "# Save operational facilities to operational variable"
      ]
    },
    {
      "cell_type": "code",
      "execution_count": null,
      "metadata": {
        "id": "v4E_Jr_ux5zX"
      },
      "outputs": [],
      "source": [
        "operational, counts = operational_facilities(approved_facilities)"
      ]
    },
    {
      "cell_type": "markdown",
      "metadata": {
        "id": "jnaZ0SaCMKJH"
      },
      "source": [
        "#Step 3: Get Details for Operational Facilities\n",
        "\n",
        "Phone Number\n",
        "\n",
        "Business Hours"
      ]
    },
    {
      "cell_type": "markdown",
      "metadata": {
        "id": "3lPg02lY8Bil"
      },
      "source": [
        "Create function to extract the business details for each operational Healthcare Facility"
      ]
    },
    {
      "cell_type": "code",
      "execution_count": null,
      "metadata": {
        "id": "KBWOXm2P8G2I"
      },
      "outputs": [],
      "source": [
        "# Create get_facility_details function\n",
        "def get_facility_details(place_id):\n",
        "  # Set up url\n",
        "  url = f\"{get_facility_details_url(place_id)}?key={API_KEY}\"\n",
        "\n",
        "  # set up params\n",
        "  params = {\n",
        "      \"fields\": \"displayName,formattedAddress,internationalPhoneNumber,regularOpeningHours.weekdayDescriptions\"\n",
        "      }\n",
        "\n",
        "  # Create response\n",
        "  response = requests.get(url, params=params)\n",
        "\n",
        "  # Print Error Message if it fails\n",
        "  if not response.ok:\n",
        "    print(f\"Failed to get details for Place ID: {place_id}\")\n",
        "    print(\"Status code:\", response.status_code)\n",
        "    print(\"Response:\", response.text)\n",
        "    return {}\n",
        "\n",
        "  try:\n",
        "    return response.json()\n",
        "  except Exception as e:\n",
        "    print(f\"JSON error on details request: {e}\")\n",
        "    return {}\n",
        "\n",
        "  time.sleep(1)\n",
        "\n",
        "  return data"
      ]
    },
    {
      "cell_type": "markdown",
      "metadata": {
        "id": "eGQz1XamCSqO"
      },
      "source": [
        "Use for loop to add facility details"
      ]
    },
    {
      "cell_type": "code",
      "execution_count": null,
      "metadata": {
        "id": "-VqLvxVvCYcX"
      },
      "outputs": [],
      "source": [
        "def add_facility_details(places, delay=0.25):\n",
        "  # Create facility details list to add details of facility\n",
        "  facility_details = []\n",
        "  total = len(places)\n",
        "\n",
        "  estimated_total = round(total * delay, 2)\n",
        "  print(f\"Estimated time to update facility profile: ~{estimated_total} seconds ({round(estimated_total / 60, 2)} minutes)\\n\")\n",
        "\n",
        "  count = 0\n",
        "  for place in places:\n",
        "    count += 1\n",
        "    print(f\"Updating profile details {count}/{total}: {place['name']}\")\n",
        "\n",
        "    details = get_facility_details(place[\"place_id\"])\n",
        "    place[\"phone\"] = details.get(\"internationalPhoneNumber\", \"N/A\")\n",
        "    # Format hours while looping through\n",
        "    hours = details.get(\"regularOpeningHours\", {}).get(\"weekdayDescriptions\", [])\n",
        "    place[\"business_hours\"] = \"\\n\".join(hours) if hours else \"N/A\"\n",
        "\n",
        "    facility_details.append(place)\n",
        "\n",
        "    time.sleep(delay)\n",
        "\n",
        "  print(\"Facility profile completed!\")\n",
        "\n",
        "  return facility_details"
      ]
    },
    {
      "cell_type": "markdown",
      "metadata": {
        "id": "wKIAhX2oyDeV"
      },
      "source": [
        "Add facility details to the operational facilities"
      ]
    },
    {
      "cell_type": "code",
      "execution_count": null,
      "metadata": {
        "colab": {
          "base_uri": "https://localhost:8080/"
        },
        "id": "0iz8YB-yyKjE",
        "outputId": "d9233d64-abd2-4d61-ae34-70a1d6620ac6"
      },
      "outputs": [
        {
          "name": "stdout",
          "output_type": "stream",
          "text": [
            "Estimated time to update facility profile: ~13.0 seconds (0.22 minutes)\n",
            "\n",
            "Updating profile details 1/52: Northwest Medical Center\n",
            "Updating profile details 2/52: Tucson Medical Center\n",
            "Updating profile details 3/52: MHC Healthcare Clinica Del Alma Health Center\n",
            "Updating profile details 4/52: MHC Healthcare Wilmot Family Health Center\n",
            "Updating profile details 5/52: MHC Healthcare Primary Care Health Center\n",
            "Updating profile details 6/52: Northwest Medical Center Houghton\n",
            "Updating profile details 7/52: Barrio Healthcare\n",
            "Updating profile details 8/52: HealthOn Broadway\n",
            "Updating profile details 9/52: UA Campus Health Service\n",
            "Updating profile details 10/52: MHC Healthcare Flowing Wells Family Health Center\n",
            "Updating profile details 11/52: HealthOn University\n",
            "Updating profile details 12/52: Pinnacle HealthCare\n",
            "Updating profile details 13/52: Community Partners Integrated Healthcare\n",
            "Updating profile details 14/52: ArchWell Health\n",
            "Updating profile details 15/52: Optima Medical - Tucson\n",
            "Updating profile details 16/52: Banner - University Medical Center Tucson\n",
            "Updating profile details 17/52: Rincon Health Direct Primary Care\n",
            "Updating profile details 18/52: Tucson Clinica Medica Familiar\n",
            "Updating profile details 19/52: El Rio Health Congress\n",
            "Updating profile details 20/52: The Arizona Clinic\n",
            "Updating profile details 21/52: Oak Street Health Colonia Primary Care Clinic\n",
            "Updating profile details 22/52: Oak Street Health Oracle Gateway Primary Care Clinic\n",
            "Updating profile details 23/52: Tucson Family Care\n",
            "Updating profile details 24/52: St. Joseph's Hospital\n",
            "Updating profile details 25/52: St. Mary's Hospital\n",
            "Updating profile details 26/52: Oro Valley Hospital\n",
            "Updating profile details 27/52: Tucson ER & Hospital\n",
            "Updating profile details 28/52: Banner - University Medical Center South\n",
            "Updating profile details 29/52: Tucson Medical Center Emergency Room\n",
            "Updating profile details 30/52: Carondelet St. Raphael’s Emergency Center\n",
            "Updating profile details 31/52: Carondelet St. Joseph's Hospital Emergency Room\n",
            "Updating profile details 32/52: TMC Rincon\n",
            "Updating profile details 33/52: Banner - University Medical Center South Campus Multispecialty Services\n",
            "Updating profile details 34/52: The University of Arizona Medical Center\n",
            "Updating profile details 35/52: Tucson VA Medical Center\n",
            "Updating profile details 36/52: Banner - University Medicine North\n",
            "Updating profile details 37/52: MHC Healthcare West Side Health Center\n",
            "Updating profile details 38/52: San Xavier Health Center\n",
            "Updating profile details 39/52: MHC Healthcare East Side Health Center\n",
            "Updating profile details 40/52: El Rio Health Northwest\n",
            "Updating profile details 41/52: El Rio Health Grant Road\n",
            "Updating profile details 42/52: Clínica Amistad\n",
            "Updating profile details 43/52: El Rio Health Cherrybell\n",
            "Updating profile details 44/52: Northwest Primary Care at Gateway\n",
            "Updating profile details 45/52: Milagros Family Healthcare (Lisnet Jorge FNP)\n",
            "Updating profile details 46/52: Banner - University Medicine Primary Care Clinic\n",
            "Updating profile details 47/52: Sunrise Family Medicine PLLC\n",
            "Updating profile details 48/52: Banner - University Medicine Family Medicine Clinic\n",
            "Updating profile details 49/52: Banner - University Medicine Primary Care Clinic\n",
            "Updating profile details 50/52: Banner - University Medicine Primary Care Clinic\n",
            "Updating profile details 51/52: Tucson Family Medicine\n",
            "Updating profile details 52/52: Wilmot Primary Care Group PLC\n",
            "Facility profile completed!\n"
          ]
        }
      ],
      "source": [
        "operational_with_details = add_facility_details(operational, delay=0.25)"
      ]
    },
    {
      "cell_type": "markdown",
      "metadata": {
        "id": "gqN6WWrC8fAm"
      },
      "source": [
        "Create dataframe to hold the results"
      ]
    },
    {
      "cell_type": "code",
      "execution_count": null,
      "metadata": {
        "id": "YMxTukVG8huO"
      },
      "outputs": [],
      "source": [
        "operational_df = pd.DataFrame(operational_with_details)"
      ]
    },
    {
      "cell_type": "code",
      "execution_count": null,
      "metadata": {
        "id": "5LdrxFsp8l0V"
      },
      "outputs": [],
      "source": [
        "# Convert the latitude and longitude columns to be numeric\n",
        "operational_df['latitude'] = pd.to_numeric(operational_df['latitude'])\n",
        "operational_df['longitude'] = pd.to_numeric(operational_df['longitude'])\n",
        "\n",
        "#Remove rows with NaNs\n",
        "operational_df = operational_df.dropna(subset=['latitude', 'longitude'])"
      ]
    },
    {
      "cell_type": "markdown",
      "metadata": {
        "id": "9j6wQf0o91S5"
      },
      "source": [
        "Convert to a list of dictionaries to easily pass dataframe to other functions"
      ]
    },
    {
      "cell_type": "code",
      "execution_count": null,
      "metadata": {
        "id": "yiB42TDD953-"
      },
      "outputs": [],
      "source": [
        "operational_list = operational_df.to_dict(orient='records')"
      ]
    },
    {
      "cell_type": "markdown",
      "metadata": {
        "id": "H86PutAIUmQL"
      },
      "source": [
        "#Step 3: Clean the bus stop data\n",
        "\n",
        "Check for duplicates\n",
        "\n",
        "Check for na values\n",
        "\n",
        "Create new df\n",
        "\n",
        "Keep only the relevant columns and add to new df\n",
        "\n",
        "Clean up the latitude and longitude coordinates"
      ]
    },
    {
      "cell_type": "markdown",
      "metadata": {
        "id": "G7UKI_lyVPMa"
      },
      "source": [
        "Load in the bus_stop.csv file"
      ]
    },
    {
      "cell_type": "code",
      "execution_count": null,
      "metadata": {
        "colab": {
          "base_uri": "https://localhost:8080/",
          "height": 311
        },
        "id": "6hvQL3zLVR2_",
        "outputId": "2b0f987e-d186-414d-aa91-64c825d7d056"
      },
      "outputs": [
        {
          "ename": "FileNotFoundError",
          "evalue": "[Errno 2] No such file or directory: 'bus_stops.csv'",
          "output_type": "error",
          "traceback": [
            "\u001b[0;31m---------------------------------------------------------------------------\u001b[0m",
            "\u001b[0;31mFileNotFoundError\u001b[0m                         Traceback (most recent call last)",
            "\u001b[0;32m<ipython-input-24-2618bcf174d8>\u001b[0m in \u001b[0;36m<cell line: 0>\u001b[0;34m()\u001b[0m\n\u001b[1;32m      1\u001b[0m \u001b[0;31m# load in bus_stop.csv\u001b[0m\u001b[0;34m\u001b[0m\u001b[0;34m\u001b[0m\u001b[0m\n\u001b[0;32m----> 2\u001b[0;31m \u001b[0mbus_stops\u001b[0m \u001b[0;34m=\u001b[0m \u001b[0mpd\u001b[0m\u001b[0;34m.\u001b[0m\u001b[0mread_csv\u001b[0m\u001b[0;34m(\u001b[0m\u001b[0;34m'bus_stops.csv'\u001b[0m\u001b[0;34m)\u001b[0m\u001b[0;34m\u001b[0m\u001b[0;34m\u001b[0m\u001b[0m\n\u001b[0m",
            "\u001b[0;32m/usr/local/lib/python3.11/dist-packages/pandas/io/parsers/readers.py\u001b[0m in \u001b[0;36mread_csv\u001b[0;34m(filepath_or_buffer, sep, delimiter, header, names, index_col, usecols, dtype, engine, converters, true_values, false_values, skipinitialspace, skiprows, skipfooter, nrows, na_values, keep_default_na, na_filter, verbose, skip_blank_lines, parse_dates, infer_datetime_format, keep_date_col, date_parser, date_format, dayfirst, cache_dates, iterator, chunksize, compression, thousands, decimal, lineterminator, quotechar, quoting, doublequote, escapechar, comment, encoding, encoding_errors, dialect, on_bad_lines, delim_whitespace, low_memory, memory_map, float_precision, storage_options, dtype_backend)\u001b[0m\n\u001b[1;32m   1024\u001b[0m     \u001b[0mkwds\u001b[0m\u001b[0;34m.\u001b[0m\u001b[0mupdate\u001b[0m\u001b[0;34m(\u001b[0m\u001b[0mkwds_defaults\u001b[0m\u001b[0;34m)\u001b[0m\u001b[0;34m\u001b[0m\u001b[0;34m\u001b[0m\u001b[0m\n\u001b[1;32m   1025\u001b[0m \u001b[0;34m\u001b[0m\u001b[0m\n\u001b[0;32m-> 1026\u001b[0;31m     \u001b[0;32mreturn\u001b[0m \u001b[0m_read\u001b[0m\u001b[0;34m(\u001b[0m\u001b[0mfilepath_or_buffer\u001b[0m\u001b[0;34m,\u001b[0m \u001b[0mkwds\u001b[0m\u001b[0;34m)\u001b[0m\u001b[0;34m\u001b[0m\u001b[0;34m\u001b[0m\u001b[0m\n\u001b[0m\u001b[1;32m   1027\u001b[0m \u001b[0;34m\u001b[0m\u001b[0m\n\u001b[1;32m   1028\u001b[0m \u001b[0;34m\u001b[0m\u001b[0m\n",
            "\u001b[0;32m/usr/local/lib/python3.11/dist-packages/pandas/io/parsers/readers.py\u001b[0m in \u001b[0;36m_read\u001b[0;34m(filepath_or_buffer, kwds)\u001b[0m\n\u001b[1;32m    618\u001b[0m \u001b[0;34m\u001b[0m\u001b[0m\n\u001b[1;32m    619\u001b[0m     \u001b[0;31m# Create the parser.\u001b[0m\u001b[0;34m\u001b[0m\u001b[0;34m\u001b[0m\u001b[0m\n\u001b[0;32m--> 620\u001b[0;31m     \u001b[0mparser\u001b[0m \u001b[0;34m=\u001b[0m \u001b[0mTextFileReader\u001b[0m\u001b[0;34m(\u001b[0m\u001b[0mfilepath_or_buffer\u001b[0m\u001b[0;34m,\u001b[0m \u001b[0;34m**\u001b[0m\u001b[0mkwds\u001b[0m\u001b[0;34m)\u001b[0m\u001b[0;34m\u001b[0m\u001b[0;34m\u001b[0m\u001b[0m\n\u001b[0m\u001b[1;32m    621\u001b[0m \u001b[0;34m\u001b[0m\u001b[0m\n\u001b[1;32m    622\u001b[0m     \u001b[0;32mif\u001b[0m \u001b[0mchunksize\u001b[0m \u001b[0;32mor\u001b[0m \u001b[0miterator\u001b[0m\u001b[0;34m:\u001b[0m\u001b[0;34m\u001b[0m\u001b[0;34m\u001b[0m\u001b[0m\n",
            "\u001b[0;32m/usr/local/lib/python3.11/dist-packages/pandas/io/parsers/readers.py\u001b[0m in \u001b[0;36m__init__\u001b[0;34m(self, f, engine, **kwds)\u001b[0m\n\u001b[1;32m   1618\u001b[0m \u001b[0;34m\u001b[0m\u001b[0m\n\u001b[1;32m   1619\u001b[0m         \u001b[0mself\u001b[0m\u001b[0;34m.\u001b[0m\u001b[0mhandles\u001b[0m\u001b[0;34m:\u001b[0m \u001b[0mIOHandles\u001b[0m \u001b[0;34m|\u001b[0m \u001b[0;32mNone\u001b[0m \u001b[0;34m=\u001b[0m \u001b[0;32mNone\u001b[0m\u001b[0;34m\u001b[0m\u001b[0;34m\u001b[0m\u001b[0m\n\u001b[0;32m-> 1620\u001b[0;31m         \u001b[0mself\u001b[0m\u001b[0;34m.\u001b[0m\u001b[0m_engine\u001b[0m \u001b[0;34m=\u001b[0m \u001b[0mself\u001b[0m\u001b[0;34m.\u001b[0m\u001b[0m_make_engine\u001b[0m\u001b[0;34m(\u001b[0m\u001b[0mf\u001b[0m\u001b[0;34m,\u001b[0m \u001b[0mself\u001b[0m\u001b[0;34m.\u001b[0m\u001b[0mengine\u001b[0m\u001b[0;34m)\u001b[0m\u001b[0;34m\u001b[0m\u001b[0;34m\u001b[0m\u001b[0m\n\u001b[0m\u001b[1;32m   1621\u001b[0m \u001b[0;34m\u001b[0m\u001b[0m\n\u001b[1;32m   1622\u001b[0m     \u001b[0;32mdef\u001b[0m \u001b[0mclose\u001b[0m\u001b[0;34m(\u001b[0m\u001b[0mself\u001b[0m\u001b[0;34m)\u001b[0m \u001b[0;34m->\u001b[0m \u001b[0;32mNone\u001b[0m\u001b[0;34m:\u001b[0m\u001b[0;34m\u001b[0m\u001b[0;34m\u001b[0m\u001b[0m\n",
            "\u001b[0;32m/usr/local/lib/python3.11/dist-packages/pandas/io/parsers/readers.py\u001b[0m in \u001b[0;36m_make_engine\u001b[0;34m(self, f, engine)\u001b[0m\n\u001b[1;32m   1878\u001b[0m                 \u001b[0;32mif\u001b[0m \u001b[0;34m\"b\"\u001b[0m \u001b[0;32mnot\u001b[0m \u001b[0;32min\u001b[0m \u001b[0mmode\u001b[0m\u001b[0;34m:\u001b[0m\u001b[0;34m\u001b[0m\u001b[0;34m\u001b[0m\u001b[0m\n\u001b[1;32m   1879\u001b[0m                     \u001b[0mmode\u001b[0m \u001b[0;34m+=\u001b[0m \u001b[0;34m\"b\"\u001b[0m\u001b[0;34m\u001b[0m\u001b[0;34m\u001b[0m\u001b[0m\n\u001b[0;32m-> 1880\u001b[0;31m             self.handles = get_handle(\n\u001b[0m\u001b[1;32m   1881\u001b[0m                 \u001b[0mf\u001b[0m\u001b[0;34m,\u001b[0m\u001b[0;34m\u001b[0m\u001b[0;34m\u001b[0m\u001b[0m\n\u001b[1;32m   1882\u001b[0m                 \u001b[0mmode\u001b[0m\u001b[0;34m,\u001b[0m\u001b[0;34m\u001b[0m\u001b[0;34m\u001b[0m\u001b[0m\n",
            "\u001b[0;32m/usr/local/lib/python3.11/dist-packages/pandas/io/common.py\u001b[0m in \u001b[0;36mget_handle\u001b[0;34m(path_or_buf, mode, encoding, compression, memory_map, is_text, errors, storage_options)\u001b[0m\n\u001b[1;32m    871\u001b[0m         \u001b[0;32mif\u001b[0m \u001b[0mioargs\u001b[0m\u001b[0;34m.\u001b[0m\u001b[0mencoding\u001b[0m \u001b[0;32mand\u001b[0m \u001b[0;34m\"b\"\u001b[0m \u001b[0;32mnot\u001b[0m \u001b[0;32min\u001b[0m \u001b[0mioargs\u001b[0m\u001b[0;34m.\u001b[0m\u001b[0mmode\u001b[0m\u001b[0;34m:\u001b[0m\u001b[0;34m\u001b[0m\u001b[0;34m\u001b[0m\u001b[0m\n\u001b[1;32m    872\u001b[0m             \u001b[0;31m# Encoding\u001b[0m\u001b[0;34m\u001b[0m\u001b[0;34m\u001b[0m\u001b[0m\n\u001b[0;32m--> 873\u001b[0;31m             handle = open(\n\u001b[0m\u001b[1;32m    874\u001b[0m                 \u001b[0mhandle\u001b[0m\u001b[0;34m,\u001b[0m\u001b[0;34m\u001b[0m\u001b[0;34m\u001b[0m\u001b[0m\n\u001b[1;32m    875\u001b[0m                 \u001b[0mioargs\u001b[0m\u001b[0;34m.\u001b[0m\u001b[0mmode\u001b[0m\u001b[0;34m,\u001b[0m\u001b[0;34m\u001b[0m\u001b[0;34m\u001b[0m\u001b[0m\n",
            "\u001b[0;31mFileNotFoundError\u001b[0m: [Errno 2] No such file or directory: 'bus_stops.csv'"
          ]
        }
      ],
      "source": [
        "# load in bus_stop.csv\n",
        "bus_stops = pd.read_csv('bus_stops.csv')"
      ]
    },
    {
      "cell_type": "markdown",
      "metadata": {
        "id": "Gj95Fuw6VcHG"
      },
      "source": [
        "Check for duplicates"
      ]
    },
    {
      "cell_type": "code",
      "execution_count": null,
      "metadata": {
        "colab": {
          "base_uri": "https://localhost:8080/"
        },
        "id": "C7sY5BOaVdZ0",
        "outputId": "c994973d-a617-433d-a2cb-14561829677c"
      },
      "outputs": [
        {
          "data": {
            "text/plain": [
              "np.int64(0)"
            ]
          },
          "execution_count": 31,
          "metadata": {},
          "output_type": "execute_result"
        }
      ],
      "source": [
        "bus_stops.duplicated().sum()"
      ]
    },
    {
      "cell_type": "markdown",
      "metadata": {
        "id": "ic1K8Gf1Vs1l"
      },
      "source": [
        "Check for na values"
      ]
    },
    {
      "cell_type": "code",
      "execution_count": null,
      "metadata": {
        "colab": {
          "base_uri": "https://localhost:8080/",
          "height": 1000
        },
        "id": "La0mcYJuVuLX",
        "outputId": "1baa4747-1ec3-481f-ee46-c0b9e47a6c1a"
      },
      "outputs": [
        {
          "data": {
            "text/html": [
              "<div>\n",
              "<style scoped>\n",
              "    .dataframe tbody tr th:only-of-type {\n",
              "        vertical-align: middle;\n",
              "    }\n",
              "\n",
              "    .dataframe tbody tr th {\n",
              "        vertical-align: top;\n",
              "    }\n",
              "\n",
              "    .dataframe thead th {\n",
              "        text-align: right;\n",
              "    }\n",
              "</style>\n",
              "<table border=\"1\" class=\"dataframe\">\n",
              "  <thead>\n",
              "    <tr style=\"text-align: right;\">\n",
              "      <th></th>\n",
              "      <th>0</th>\n",
              "    </tr>\n",
              "  </thead>\n",
              "  <tbody>\n",
              "    <tr>\n",
              "      <th>X</th>\n",
              "      <td>1</td>\n",
              "    </tr>\n",
              "    <tr>\n",
              "      <th>Y</th>\n",
              "      <td>1</td>\n",
              "    </tr>\n",
              "    <tr>\n",
              "      <th>OBJECTID</th>\n",
              "      <td>0</td>\n",
              "    </tr>\n",
              "    <tr>\n",
              "      <th>StopId</th>\n",
              "      <td>2</td>\n",
              "    </tr>\n",
              "    <tr>\n",
              "      <th>StopAbbr</th>\n",
              "      <td>2</td>\n",
              "    </tr>\n",
              "    <tr>\n",
              "      <th>StopName</th>\n",
              "      <td>2</td>\n",
              "    </tr>\n",
              "    <tr>\n",
              "      <th>NodeAbbr</th>\n",
              "      <td>2</td>\n",
              "    </tr>\n",
              "    <tr>\n",
              "      <th>OnStreet</th>\n",
              "      <td>2</td>\n",
              "    </tr>\n",
              "    <tr>\n",
              "      <th>AtStreet</th>\n",
              "      <td>2</td>\n",
              "    </tr>\n",
              "    <tr>\n",
              "      <th>Lon</th>\n",
              "      <td>2</td>\n",
              "    </tr>\n",
              "    <tr>\n",
              "      <th>Lat</th>\n",
              "      <td>2</td>\n",
              "    </tr>\n",
              "    <tr>\n",
              "      <th>GeoStatus</th>\n",
              "      <td>2</td>\n",
              "    </tr>\n",
              "    <tr>\n",
              "      <th>Comments</th>\n",
              "      <td>2</td>\n",
              "    </tr>\n",
              "    <tr>\n",
              "      <th>BayNum</th>\n",
              "      <td>2</td>\n",
              "    </tr>\n",
              "    <tr>\n",
              "      <th>FacingDir</th>\n",
              "      <td>2</td>\n",
              "    </tr>\n",
              "    <tr>\n",
              "      <th>FareZoneId</th>\n",
              "      <td>2</td>\n",
              "    </tr>\n",
              "    <tr>\n",
              "      <th>CurbType</th>\n",
              "      <td>2</td>\n",
              "    </tr>\n",
              "    <tr>\n",
              "      <th>InService</th>\n",
              "      <td>2</td>\n",
              "    </tr>\n",
              "    <tr>\n",
              "      <th>Preferred</th>\n",
              "      <td>2</td>\n",
              "    </tr>\n",
              "    <tr>\n",
              "      <th>Bench</th>\n",
              "      <td>2</td>\n",
              "    </tr>\n",
              "    <tr>\n",
              "      <th>Shelter</th>\n",
              "      <td>2</td>\n",
              "    </tr>\n",
              "    <tr>\n",
              "      <th>Lighting</th>\n",
              "      <td>2</td>\n",
              "    </tr>\n",
              "    <tr>\n",
              "      <th>Garbage</th>\n",
              "      <td>2</td>\n",
              "    </tr>\n",
              "    <tr>\n",
              "      <th>Telephone</th>\n",
              "      <td>2287</td>\n",
              "    </tr>\n",
              "    <tr>\n",
              "      <th>SignPost</th>\n",
              "      <td>2</td>\n",
              "    </tr>\n",
              "    <tr>\n",
              "      <th>Bicycle</th>\n",
              "      <td>2</td>\n",
              "    </tr>\n",
              "    <tr>\n",
              "      <th>Transfer</th>\n",
              "      <td>2</td>\n",
              "    </tr>\n",
              "    <tr>\n",
              "      <th>URL</th>\n",
              "      <td>2</td>\n",
              "    </tr>\n",
              "    <tr>\n",
              "      <th>DATASOURCE</th>\n",
              "      <td>0</td>\n",
              "    </tr>\n",
              "    <tr>\n",
              "      <th>UA</th>\n",
              "      <td>2287</td>\n",
              "    </tr>\n",
              "  </tbody>\n",
              "</table>\n",
              "</div><br><label><b>dtype:</b> int64</label>"
            ],
            "text/plain": [
              "X                1\n",
              "Y                1\n",
              "OBJECTID         0\n",
              "StopId           2\n",
              "StopAbbr         2\n",
              "StopName         2\n",
              "NodeAbbr         2\n",
              "OnStreet         2\n",
              "AtStreet         2\n",
              "Lon              2\n",
              "Lat              2\n",
              "GeoStatus        2\n",
              "Comments         2\n",
              "BayNum           2\n",
              "FacingDir        2\n",
              "FareZoneId       2\n",
              "CurbType         2\n",
              "InService        2\n",
              "Preferred        2\n",
              "Bench            2\n",
              "Shelter          2\n",
              "Lighting         2\n",
              "Garbage          2\n",
              "Telephone     2287\n",
              "SignPost         2\n",
              "Bicycle          2\n",
              "Transfer         2\n",
              "URL              2\n",
              "DATASOURCE       0\n",
              "UA            2287\n",
              "dtype: int64"
            ]
          },
          "execution_count": 32,
          "metadata": {},
          "output_type": "execute_result"
        }
      ],
      "source": [
        "# Check bus_stops data frame for na values\n",
        "bus_stops.isna().sum()"
      ]
    },
    {
      "cell_type": "markdown",
      "metadata": {
        "id": "COcLokbSV2EL"
      },
      "source": [
        "Drop the Telephone and UA columns then drop the rows with na values"
      ]
    },
    {
      "cell_type": "code",
      "execution_count": null,
      "metadata": {
        "id": "coZnSUDIV7yr"
      },
      "outputs": [],
      "source": [
        "# drop the telephone column\n",
        "bus_stops.drop(columns=['Telephone', 'UA'], inplace=True)\n",
        "\n",
        "#drop the rows with the na values\n",
        "bus_stops.dropna(inplace=True)"
      ]
    },
    {
      "cell_type": "markdown",
      "metadata": {
        "id": "BXU3YPbtWKmq"
      },
      "source": [
        "Drop unnecessary columns and add to newly created data frame"
      ]
    },
    {
      "cell_type": "code",
      "execution_count": null,
      "metadata": {
        "id": "zVlyqefHWJOy"
      },
      "outputs": [],
      "source": [
        "# Create new bus dataframe using OBJECTID, Long, Lat, GeoStatus, InService, URL\n",
        "bus = pd.DataFrame()"
      ]
    },
    {
      "cell_type": "markdown",
      "metadata": {
        "id": "0yi48sxsCrfZ"
      },
      "source": [
        "Clean up Latitude and Longitude coordinates"
      ]
    },
    {
      "cell_type": "code",
      "execution_count": null,
      "metadata": {
        "id": "PDL2JZWkCunD"
      },
      "outputs": [],
      "source": [
        "# Create function to get latitude and logitude in correct format gor Google Maps\n",
        "def convert_microdegrees(value):\n",
        "  try:\n",
        "    return float(value) / 1_000_000\n",
        "  except:\n",
        "    return None"
      ]
    },
    {
      "cell_type": "markdown",
      "metadata": {
        "id": "vS6iNZDwDApS"
      },
      "source": [
        "Convert the Latitude and Longitude coordinates using convert_microdegrees function"
      ]
    },
    {
      "cell_type": "code",
      "execution_count": null,
      "metadata": {
        "id": "f2qiSI7kDHJQ"
      },
      "outputs": [],
      "source": [
        "# Convert the Longitude and Latitude column values\n",
        "bus_stops.loc[:, 'Latitude'] = bus_stops['Lat'].apply(convert_microdegrees)\n",
        "bus_stops.loc[:, 'Longitude'] = bus_stops['Lon'].apply(convert_microdegrees)"
      ]
    },
    {
      "cell_type": "code",
      "execution_count": null,
      "metadata": {
        "id": "OSjETN02TJ0E"
      },
      "outputs": [],
      "source": [
        "bus = bus_stops[['OBJECTID', 'StopName', 'Longitude', 'Latitude','GeoStatus', 'InService', 'URL']].copy()"
      ]
    },
    {
      "cell_type": "markdown",
      "metadata": {
        "id": "jrr_mjyAYI1V"
      },
      "source": [
        "Function to process bus stop data"
      ]
    },
    {
      "cell_type": "code",
      "execution_count": null,
      "metadata": {
        "id": "-vsvbDJVYMNZ"
      },
      "outputs": [],
      "source": [
        "def process_bus_data_from_csv(filepath):\n",
        "  try:\n",
        "    bus_stops = pd.read_csv(filepath)\n",
        "    bus_stops.drop(columns=['Telephone', 'UA'], inplace=True, errors='ignore')\n",
        "    bus_stops.dropna(inplace=True)\n",
        "    bus_stops['Latitude'] = bus_stops['Lat'].apply(convert_microdegrees)\n",
        "    bus_stops['Longitude'] = bus_stops['Lon'].apply(convert_microdegrees)\n",
        "    bus  = bus_stops[['OBJECTID', 'StopName', 'Longitude', 'Latitude','GeoStatus', 'InService', 'URL']].copy()\n",
        "    return bus\n",
        "  except Exception as e:\n",
        "    print(f\"Error reading CSV file: {e}\")\n",
        "    return None"
      ]
    },
    {
      "cell_type": "code",
      "execution_count": null,
      "metadata": {
        "colab": {
          "base_uri": "https://localhost:8080/",
          "height": 180
        },
        "id": "I6xXG054ZXHB",
        "outputId": "6a1edade-c020-4e4b-9662-f89ee2efa4aa"
      },
      "outputs": [
        {
          "name": "stdout",
          "output_type": "stream",
          "text": [
            "Error reading CSV file: name 'convert_microdegrees' is not defined\n"
          ]
        },
        {
          "ename": "AttributeError",
          "evalue": "'NoneType' object has no attribute 'head'",
          "output_type": "error",
          "traceback": [
            "\u001b[0;31m---------------------------------------------------------------------------\u001b[0m",
            "\u001b[0;31mAttributeError\u001b[0m                            Traceback (most recent call last)",
            "\u001b[0;32m<ipython-input-3-1a0036948be1>\u001b[0m in \u001b[0;36m<cell line: 0>\u001b[0;34m()\u001b[0m\n\u001b[1;32m      1\u001b[0m \u001b[0mbus_data\u001b[0m \u001b[0;34m=\u001b[0m \u001b[0mprocess_bus_data_from_csv\u001b[0m\u001b[0;34m(\u001b[0m\u001b[0;34m'bus_stops.csv'\u001b[0m\u001b[0;34m)\u001b[0m\u001b[0;34m\u001b[0m\u001b[0;34m\u001b[0m\u001b[0m\n\u001b[0;32m----> 2\u001b[0;31m \u001b[0mbus_data\u001b[0m\u001b[0;34m.\u001b[0m\u001b[0mhead\u001b[0m\u001b[0;34m(\u001b[0m\u001b[0;34m)\u001b[0m\u001b[0;34m\u001b[0m\u001b[0;34m\u001b[0m\u001b[0m\n\u001b[0m",
            "\u001b[0;31mAttributeError\u001b[0m: 'NoneType' object has no attribute 'head'"
          ]
        }
      ],
      "source": [
        "bus_data = process_bus_data_from_csv('bus_stops.csv')"
      ]
    },
    {
      "cell_type": "markdown",
      "metadata": {
        "id": "h6hKfMASMZlC"
      },
      "source": [
        "#Step 4:  Check for nearby Public Transport\n",
        "\n",
        "\n",
        "\n",
        "\n",
        "Calculate the distance to each bus stop using lat/long\n",
        "\n",
        "Determine radius (how many feet is considered reasonable for someone to walk from the bus stop to the healthcare facility)\n",
        "\n",
        "If the facility is considered to be in the determined radius, consider it to be nearby"
      ]
    },
    {
      "cell_type": "markdown",
      "metadata": {
        "id": "OdjKkNU16Z8i"
      },
      "source": [
        "Create function to convert the latitude and longitude columns to folats to avoid errors"
      ]
    },
    {
      "cell_type": "code",
      "execution_count": null,
      "metadata": {
        "id": "qa_LSzwg6f7X"
      },
      "outputs": [],
      "source": [
        "def convert_lat_lon_to_float(data):\n",
        "  for entry in data:\n",
        "    try:\n",
        "      entry['latitude'] = float(entry['latitude'])\n",
        "      entry['longitude'] = float(entry['longitude'])\n",
        "    except Exception as e:\n",
        "      print(f\"Skipping bad coordinates for {entry.get('name')}: {e}\")\n",
        "  return data"
      ]
    },
    {
      "cell_type": "markdown",
      "metadata": {
        "id": "WQZpQUdzc7HD"
      },
      "source": [
        "Create helper function for the Distance Matrix API base url"
      ]
    },
    {
      "cell_type": "code",
      "execution_count": null,
      "metadata": {
        "id": "13Dy7LQE-MYb"
      },
      "outputs": [],
      "source": [
        "# Create get distance function base url\n",
        "def get_distance_matrix_base_url():\n",
        "  return \"https://maps.googleapis.com/maps/api/distancematrix/json\""
      ]
    },
    {
      "cell_type": "markdown",
      "metadata": {
        "id": "D8U3lG8O-sLI"
      },
      "source": [
        "Create get the walking distance function"
      ]
    },
    {
      "cell_type": "code",
      "execution_count": null,
      "metadata": {
        "id": "ChWThG7D-woL"
      },
      "outputs": [],
      "source": [
        "# Create walking distance function\n",
        "def get_walking_distance(lat1, lon1, lat2, lon2, API_KEY, mode='walking'):\n",
        "  if not API_KEY:\n",
        "    return \"No API key is provided\"\n",
        "\n",
        "  # Round coordinates to the 6th decimal place\n",
        "  lat1 = round((lat1), 6)\n",
        "  lon1 = round((lon1), 6)\n",
        "  lat2 = round((lat2), 6)\n",
        "  lon2 = round((lon2), 6)\n",
        "\n",
        "  # Set up url\n",
        "  url = get_distance_matrix_base_url()\n",
        "\n",
        "  # Set up params\n",
        "  params = {\n",
        "      'origins': f\"{lat1},{lon1}\",\n",
        "      'destinations': f\"{lat2},{lon2}\",\n",
        "      'mode': mode,\n",
        "      'key': API_KEY\n",
        "  }\n",
        "\n",
        "  # check response status\n",
        "  try:\n",
        "    response = requests.get(url, params=params, timeout=10)\n",
        "    response.raise_for_status()\n",
        "\n",
        "    data = response.json()\n",
        "    element = data['rows'][0]['elements'][0]\n",
        "\n",
        "    if element['status'] == 'OK':\n",
        "      return element['distance']['value']\n",
        "    else:\n",
        "      print(f\"Distance matrix error: {element['status']}\")\n",
        "  except requests.exceptions.Timeout:\n",
        "    print(\"Request timed out\")\n",
        "    return None\n",
        "  except requests.exceptions.RequestException as e:\n",
        "    print(f\"Request error: {e}\")\n",
        "    return None"
      ]
    },
    {
      "cell_type": "markdown",
      "metadata": {
        "id": "4LToSjckOof0"
      },
      "source": [
        "Create function to convert meters to feet"
      ]
    },
    {
      "cell_type": "code",
      "execution_count": null,
      "metadata": {
        "id": "aPp7NY5qOrHk"
      },
      "outputs": [],
      "source": [
        "# Create function to convert m to ft\n",
        "def convert_meters_to_feet(meters):\n",
        "  try:\n",
        "    feet = float(meters) * 3.28084\n",
        "    return round(feet,2)\n",
        "  except (TypeError, ValueError):\n",
        "    return None"
      ]
    },
    {
      "cell_type": "markdown",
      "metadata": {
        "id": "jzzA3dLmPbfI"
      },
      "source": [
        "Create function to display the distance in meters"
      ]
    },
    {
      "cell_type": "code",
      "execution_count": null,
      "metadata": {
        "id": "KqKuk_TaPfVy"
      },
      "outputs": [],
      "source": [
        "# function to display the converted distance in feet from meters\n",
        "def display_distance(meters):\n",
        "  feet = convert_meters_to_feet(meters)\n",
        "  if feet is not None:\n",
        "    return f\"The distance of the Healthcare facility from the bus stop is\", {feet}, \"feet\"\n",
        "  else:\n",
        "    return \"Invalid distance\""
      ]
    },
    {
      "cell_type": "markdown",
      "metadata": {
        "id": "RyByx28Ndvmy"
      },
      "source": [
        "Create function to calculate the closest distance to the bus stop coordinates"
      ]
    },
    {
      "cell_type": "code",
      "execution_count": null,
      "metadata": {
        "id": "2Ita4seBg2sp"
      },
      "outputs": [],
      "source": [
        "def haversine_distance(lat1, lon1, lat2, lon2):\n",
        "  earth_radius_inches = 6_371_000\n",
        "  phi1, phi2 = radians(lat1), radians(lat2)\n",
        "  delta_phi = radians(lat2 - lat1)\n",
        "  delta_lambda = radians(lon2 - lon1)\n",
        "\n",
        "  angle = sin(delta_phi / 2) ** 2 + cos(phi1) * cos(phi2) * sin(delta_lambda / 2) ** 2\n",
        "  angular_distance = 2 * atan2(sqrt(angle), sqrt(1 - angle))\n",
        "\n",
        "  return earth_radius_inches * angular_distance"
      ]
    },
    {
      "cell_type": "code",
      "execution_count": null,
      "metadata": {
        "id": "jlAw2q7cd2I5"
      },
      "outputs": [],
      "source": [
        "def find_closest_bus(facility_lat, facility_lon, bus, top_n=3, delay=0.25):\n",
        "  bus['straight_line_meters'] = bus.apply(\n",
        "      lambda row: haversine_distance(facility_lat, facility_lon, row['Latitude'], row['Longitude']), axis=1\n",
        "  )\n",
        "\n",
        "  closest_stops = bus.nsmallest(top_n, 'straight_line_meters')\n",
        "  min_distance = float(\"inf\")\n",
        "  closest_stop = None\n",
        "\n",
        "  for _, row in closest_stops.iterrows():\n",
        "    time.sleep(delay)\n",
        "    distance_meters = get_walking_distance(facility_lat, facility_lon, row['Latitude'], row['Longitude'], API_KEY)\n",
        "\n",
        "    if isinstance(distance_meters, (int, float)) and distance_meters < min_distance:\n",
        "      min_distance = distance_meters\n",
        "      closest_stop = row\n",
        "\n",
        "  return min_distance, closest_stop"
      ]
    },
    {
      "cell_type": "code",
      "execution_count": null,
      "metadata": {
        "id": "ORh0yBPjAAzY"
      },
      "outputs": [],
      "source": [
        "# Create function to find the closest matching route to the healthcare facility\n",
        "def facility_to_bus_route(results, bus, API_KEY, delay=0.25, distance_threshold_feet=1312):\n",
        "  outcomes = []\n",
        "  processed_names = set()\n",
        "\n",
        "  for facility in tqdm(results, desc=\"Matching to bus stops\"):\n",
        "    facility_name = facility.get('name', 'Unknown')\n",
        "    if facility_name in processed_names:\n",
        "      continue\n",
        "    processed_names.add(facility_name)\n",
        "\n",
        "    facility_lat = facility['latitude']\n",
        "    facility_lon = facility['longitude']\n",
        "    facility_name = facility.get('name', 'Unknown Facility')\n",
        "    business_status = facility.get('business_status', 'Unknown')\n",
        "\n",
        "    time.sleep(delay)\n",
        "    min_distance, closest_stop = find_closest_bus(facility_lat, facility_lon, bus)\n",
        "\n",
        "    if closest_stop is not None and isinstance(min_distance, (int, float)):\n",
        "      distance_feet = convert_meters_to_feet(min_distance)\n",
        "      outcomes.append({\n",
        "          \"facility_name\": facility_name,\n",
        "          \"facility_lat\": facility_lat,\n",
        "          \"facility_lon\": facility_lon,\n",
        "          \"business_status\": business_status,\n",
        "          \"bus_stop_name\": closest_stop['StopName'] if 'StopName' in closest_stop else closest_stop.get('OBJECT_ID', 'unknown'),\n",
        "          \"bus_stop_lat\": closest_stop['Latitude'],\n",
        "          \"bus_stop_lon\": closest_stop['Longitude'],\n",
        "          \"distance_meters\": round(min_distance, 2),\n",
        "          \"distance_feet\": round(distance_feet, 2)\n",
        "      })\n",
        "    else:\n",
        "      print(f\"No valid bus stop found for {facility['name']}\")\n",
        "\n",
        "  return pd.DataFrame(outcomes)"
      ]
    },
    {
      "cell_type": "markdown",
      "metadata": {
        "id": "kV8lQttp2JxR"
      },
      "source": [
        "Hold the results in a variable to access easier later"
      ]
    },
    {
      "cell_type": "code",
      "execution_count": null,
      "metadata": {
        "colab": {
          "base_uri": "https://localhost:8080/"
        },
        "id": "T154DqGP2MU6",
        "outputId": "68796fb0-41ef-4254-d894-9865c8f16516"
      },
      "outputs": [
        {
          "name": "stderr",
          "output_type": "stream",
          "text": [
            "Matching to bus stops: 100%|██████████| 52/52 [01:05<00:00,  1.25s/it]\n"
          ]
        }
      ],
      "source": [
        "matched_df = facility_to_bus_route(operational_list, bus, API_KEY)\n",
        "matched_df['nearby'] = matched_df['distance_feet'] <= 1312"
      ]
    },
    {
      "cell_type": "code",
      "execution_count": null,
      "metadata": {
        "id": "O11VXbpBaoOu"
      },
      "outputs": [],
      "source": [
        "facilities = matched_df[['facility_name', 'facility_lat', 'facility_lon']].drop_duplicates().to_dict('records')"
      ]
    },
    {
      "cell_type": "markdown",
      "metadata": {
        "id": "zhIoVRCnX4Ij"
      },
      "source": [
        "Merge dataframes"
      ]
    },
    {
      "cell_type": "code",
      "execution_count": null,
      "metadata": {
        "id": "Lw1TjeLQX803"
      },
      "outputs": [],
      "source": [
        "matched_df['facility_name'] = matched_df['facility_name'].str.strip()\n",
        "operational_with_details_df = pd.DataFrame(operational_with_details)\n",
        "\n",
        "# Merge business types into proximity results\n",
        "enriched_matched_df = matched_df.merge(operational_with_details_df, left_on='facility_name', right_on='name', how='left', suffixes=('', '_facility'))"
      ]
    },
    {
      "cell_type": "code",
      "execution_count": null,
      "metadata": {
        "id": "29dBLcsmVGDn"
      },
      "outputs": [],
      "source": [
        "# save enriched_matched_df to csv to export\n",
        "enriched_matched_df.to_csv('enriched_matched_df.csv', index=False)"
      ]
    },
    {
      "cell_type": "markdown",
      "metadata": {
        "id": "z-Bwa_fhWkLE"
      },
      "source": [
        "Download the enriched_mathced_df csv"
      ]
    },
    {
      "cell_type": "code",
      "execution_count": null,
      "metadata": {
        "id": "O9vo-rAXWpVJ"
      },
      "outputs": [],
      "source": [
        "from google.colab import files\n",
        "files.download('enriched_matched_df.csv')"
      ]
    },
    {
      "cell_type": "code",
      "execution_count": null,
      "metadata": {
        "colab": {
          "base_uri": "https://localhost:8080/"
        },
        "id": "DAg3UzLkeAvT",
        "outputId": "af0a49bd-51ff-49e6-b90a-863900083013"
      },
      "outputs": [
        {
          "name": "stdout",
          "output_type": "stream",
          "text": [
            "facility_name                       Carondelet St. Raphael’s Emergency Center\n",
            "facility_lat                                                        32.116602\n",
            "facility_lon                                                      -110.857135\n",
            "business_status                                                   OPERATIONAL\n",
            "bus_stop_name                                              Craycroft/I-10 TTT\n",
            "bus_stop_lat                                                        32.126855\n",
            "bus_stop_lon                                                      -110.875169\n",
            "distance_meters                                                          2268\n",
            "distance_feet                                                         7440.95\n",
            "nearby                                                                  False\n",
            "name                                Carondelet St. Raphael’s Emergency Center\n",
            "address                               7401 S Wilmot Rd, Tucson, AZ 85756, USA\n",
            "latitude                                                            32.116602\n",
            "longitude                                                         -110.857135\n",
            "place_id                                          ChIJ2W9ylC9l1oYRVKcTBQalMo8\n",
            "business_status_facility                                          OPERATIONAL\n",
            "matched_keyword                                                      hospital\n",
            "business_type                ['health', 'point_of_interest', 'establishment']\n",
            "category                                                             hospital\n",
            "phone                                                         +1 520-493-0499\n",
            "business_hours              Monday: Open 24 hours\\nTuesday: Open 24 hours\\...\n",
            "Name: 29, dtype: object\n"
          ]
        }
      ],
      "source": [
        "# find the farthest bus stop from facility using enriched_matched_df\n",
        "farthest = enriched_matched_df.loc[enriched_matched_df['distance_feet'].idxmax()]\n",
        "print(farthest)"
      ]
    },
    {
      "cell_type": "code",
      "execution_count": null,
      "metadata": {
        "id": "fTmG5EpyO0uG"
      },
      "outputs": [],
      "source": [
        "# Find primary care facility that is the farthest from the nearest bus stop\n",
        "primary_care_facility = enriched_matched_df[enriched_matched_df['category'] == 'primary_care']\n",
        "farthest_primary_care = primary_care_facility.loc[primary_care_facility['distance_feet'].idxmax()]"
      ]
    },
    {
      "cell_type": "code",
      "execution_count": null,
      "metadata": {
        "colab": {
          "base_uri": "https://localhost:8080/"
        },
        "id": "xNhHAAj7PCBV",
        "outputId": "be5d15c0-733e-4056-f06a-be95ab4c6e2a"
      },
      "outputs": [
        {
          "name": "stdout",
          "output_type": "stream",
          "text": [
            "facility_name                                              Tucson Family Care\n",
            "facility_lat                                                        32.225194\n",
            "facility_lon                                                      -110.850146\n",
            "business_status                                                   OPERATIONAL\n",
            "bus_stop_name                                                Broadway/Jessica\n",
            "bus_stop_lat                                                        32.221127\n",
            "bus_stop_lon                                                      -110.847606\n",
            "distance_meters                                                           784\n",
            "distance_feet                                                         2572.18\n",
            "nearby                                                                  False\n",
            "name                                                       Tucson Family Care\n",
            "address                           6624 E Carondelet Dr, Tucson, AZ 85710, USA\n",
            "latitude                                                            32.225194\n",
            "longitude                                                         -110.850146\n",
            "place_id                                          ChIJq-iJ3KBv1oYRnAfVrCufEOE\n",
            "business_status_facility                                          OPERATIONAL\n",
            "matched_keyword                                                        clinic\n",
            "business_type               ['doctor', 'health', 'point_of_interest', 'est...\n",
            "category                                                         primary_care\n",
            "phone                                                         +1 520-818-8477\n",
            "business_hours              Monday: 7:00 AM – 4:00 PM\\nTuesday: 7:00 AM – ...\n",
            "Name: 22, dtype: object\n"
          ]
        }
      ],
      "source": [
        "print(farthest_primary_care)"
      ]
    },
    {
      "cell_type": "markdown",
      "metadata": {
        "id": "0hh_wGYPMssH"
      },
      "source": [
        "# Step 6: Summary Statistics\n",
        "\n",
        "Keep counts for:\n",
        "\n",
        "Total Operational Facilities\n",
        "\n",
        "How many operational facilities are considered to be near public transport (based on our determined radius)\n"
      ]
    },
    {
      "cell_type": "code",
      "execution_count": null,
      "metadata": {
        "id": "Mv8Izsdl-i0Z"
      },
      "outputs": [],
      "source": [
        "def summarize_nearby_facilties(df, distance_col='distance_to_facility', threshold=1312):\n",
        "  df = matched_df.copy()\n",
        "\n",
        "  df['distance_column'] = pd.to_numeric(df[distance_col], errors='coerce')\n",
        "\n",
        "  # Add nearby flag\n",
        "  df['nearby'] = df['distance_column'] <= threshold\n",
        "\n",
        "  # count specific facilities\n",
        "  total_operational = df['facility_name'].nunique()\n",
        "  nearby_facilities = df[df['nearby']]['facility_name'].nunique()\n",
        "\n",
        "  # Create Summary df\n",
        "  summary_df = pd.DataFrame({\n",
        "      'total_operational': [total_operational],\n",
        "      'nearby_facilities': [nearby_facilities],\n",
        "      'percent_nearby': [round((nearby_facilities / total_operational) * 100, 2) if total_operational else 0]\n",
        "  })\n",
        "\n",
        "  return summary_df"
      ]
    },
    {
      "cell_type": "code",
      "execution_count": null,
      "metadata": {
        "colab": {
          "base_uri": "https://localhost:8080/"
        },
        "id": "8os1riJRC1hD",
        "outputId": "5d9fcd25-3dce-4be9-dc0b-bccf2a470c8e"
      },
      "outputs": [
        {
          "name": "stdout",
          "output_type": "stream",
          "text": [
            "   total_operational  nearby_facilities  percent_nearby\n",
            "0                 50                 45            90.0\n"
          ]
        }
      ],
      "source": [
        "summary_df = summarize_nearby_facilties(enriched_matched_df, distance_col='distance_feet', threshold=1312)\n",
        "print(summary_df)"
      ]
    },
    {
      "cell_type": "markdown",
      "metadata": {
        "id": "6-W0Kp48GA03"
      },
      "source": [
        "# Calculate statistics for\n",
        "\n",
        "    - Average distance to nearest bus stop\n",
        "    - Max distance to nearest bus stop\n",
        "    - Facility type breakdown\n",
        "    - Facilities with zero nearby stops\n",
        "    - Number of stops that serve at least 1 facility\n",
        "    - Stop with the highest number of facilities nearby\n",
        "    - Average number of facilities per stop\n",
        "    - Stops with 0 facilities within the threshold\n",
        "    - Proximity overlap"
      ]
    },
    {
      "cell_type": "code",
      "execution_count": null,
      "metadata": {
        "id": "GT6ItEmKIiRj"
      },
      "outputs": [],
      "source": [
        "# Farthest stop\n",
        "farthest = matched_df.loc[matched_df['distance_feet'].idxmax()]\n",
        "\n",
        "# Count how many facilities are served by each bus stop\n",
        "bus_stop_counts = matched_df[matched_df['nearby']].groupby('bus_stop_name')['facility_name'].nunique()\n",
        "\n",
        "# Count how many bus stops serve at least one facility\n",
        "num_stops_serving_facilities = (bus_stop_counts > 0).sum()\n",
        "\n",
        "# Count how many bus stops have no facilities nearby\n",
        "stops_with_no_facilities = (bus_stop_counts == 0).sum()\n",
        "\n",
        "# Find the top bus stop that serves the most faciltities\n",
        "top_stop = bus_stop_counts.sort_values(ascending=False).head(1)\n",
        "\n",
        "facilities_per_stop = matched_df[matched_df['nearby']].groupby('bus_stop_name')['facility_name'].nunique()\n",
        "\n",
        "avg_fac_per_stop = round(facilities_per_stop.mean(), 2)"
      ]
    },
    {
      "cell_type": "markdown",
      "metadata": {
        "id": "dxe6H2HAVFJ3"
      },
      "source": [
        "# Step 7 Visualizations\n",
        "\n",
        "    - Create different visualizations for the summary statistics\n",
        "\n",
        "    - Pie Chart: Percentage of Healthcare Facilities Accessible by Bus\n",
        "\n",
        "    - Horizontal Bar Chart: Healthcare Facility Distance to Nearest Bus Stop"
      ]
    },
    {
      "cell_type": "code",
      "execution_count": null,
      "metadata": {
        "colab": {
          "base_uri": "https://localhost:8080/",
          "height": 446
        },
        "id": "GnV4C8C5Fp4s",
        "outputId": "d87334c0-4f64-4d2d-98ed-cd3b6f9de82d"
      },
      "outputs": [
        {
          "data": {
            "text/plain": [
              "<Axes: title={'center': 'Percentage of Healthcare Facilities Accessible by Bus'}, ylabel='count'>"
            ]
          },
          "execution_count": 54,
          "metadata": {},
          "output_type": "execute_result"
        },
        {
          "data": {
            "image/png": "[encoded data removed]",
            "text/plain": [
              "<Figure size 640x480 with 1 Axes>"
            ]
          },
          "metadata": {},
          "output_type": "display_data"
        }
      ],
      "source": [
        "# pie chart showing if healthcare facilities are accessible by bus\n",
        "matched_df['nearby'].value_counts().plot.pie(\n",
        "    labels=['Accessible', 'Not Accessible'],\n",
        "    autopct='%1.1f%%',\n",
        "    startangle=90,\n",
        "    colors=['#4682B4', '#E57373'],\n",
        "    title='Percentage of Healthcare Facilities Accessible by Bus',\n",
        "    textprops={'color':'black'}\n",
        ")"
      ]
    },
    {
      "cell_type": "code",
      "execution_count": null,
      "metadata": {
        "colab": {
          "base_uri": "https://localhost:8080/"
        },
        "id": "I8Ht5FRAQLi7",
        "outputId": "64962752-e0d9-48f8-b73c-7ce7dd4aefa5"
      },
      "outputs": [
        {
          "name": "stdout",
          "output_type": "stream",
          "text": [
            "                                       facility_name  facility_lat  \\\n",
            "0                           Northwest Medical Center     32.319515   \n",
            "15         Banner - University Medical Center Tucson     32.242930   \n",
            "17                    Tucson Clinica Medica Familiar     32.178562   \n",
            "23                             St. Joseph's Hospital     32.226508   \n",
            "30   Carondelet St. Joseph's Hospital Emergency Room     32.227317   \n",
            "31                                        TMC Rincon     32.146989   \n",
            "43                 Northwest Primary Care at Gateway     32.322046   \n",
            "44     Milagros Family Healthcare (Lisnet Jorge FNP)     32.153573   \n",
            "45  Banner - University Medicine Primary Care Clinic     32.100921   \n",
            "\n",
            "    facility_lon business_status           bus_stop_name  bus_stop_lat  \\\n",
            "0    -111.009089     OPERATIONAL  La Cholla/Hospital Dr.     32.319062   \n",
            "15   -110.946201     OPERATIONAL      Campbell Av/Lester     32.243951   \n",
            "17   -110.983127     OPERATIONAL             Ajo/16th Av     32.177962   \n",
            "23   -110.854792     OPERATIONAL       Wilmot/Carondelet     32.225963   \n",
            "30   -110.855318     OPERATIONAL       Wilmot/Carondelet     32.225963   \n",
            "31   -110.770048     OPERATIONAL      SS/Houghton/Drexel     32.147628   \n",
            "43   -111.011484     OPERATIONAL  La Cholla/Hospital Dr.     32.319657   \n",
            "44   -110.978117     OPERATIONAL       12th Av/Canada Dr     32.151572   \n",
            "45   -110.773641     OPERATIONAL     SS/Rita Rd/Houghton     32.102762   \n",
            "\n",
            "    bus_stop_lon  distance_meters  distance_feet  nearby  \n",
            "0    -111.012169              337        1105.64    True  \n",
            "15   -110.943983              359        1177.82    True  \n",
            "17   -110.981702              320        1049.87    True  \n",
            "23   -110.857800              358        1174.54    True  \n",
            "30   -110.857800              356        1167.98    True  \n",
            "31   -110.772665              327        1072.83    True  \n",
            "43   -111.012110              300         984.25    True  \n",
            "44   -110.977693              269         882.55    True  \n",
            "45   -110.773805              292         958.01    True  \n",
            "9\n"
          ]
        }
      ],
      "source": [
        "# print facilities that are less than 1312 feet away and more than 801 feet\n",
        "print(matched_df[(matched_df['distance_feet'] < 1312) & (matched_df['distance_feet'] > 801)])\n",
        "\n",
        "# print how many there are\n",
        "print(len(matched_df[(matched_df['distance_feet'] < 1312) & (matched_df['distance_feet'] > 801)]))"
      ]
    },
    {
      "cell_type": "code",
      "execution_count": null,
      "metadata": {
        "colab": {
          "base_uri": "https://localhost:8080/",
          "height": 470
        },
        "id": "dp75lCDiGuqc",
        "outputId": "a2a9e029-aa8d-443c-9ac6-0ea7966146a6"
      },
      "outputs": [
        {
          "data": {
            "text/plain": [
              "<Axes: title={'center': 'Healthcare Facility Distance to Nearest Bus Stop'}, ylabel='distance_range'>"
            ]
          },
          "execution_count": 56,
          "metadata": {},
          "output_type": "execute_result"
        },
        {
          "data": {
            "image/png": "[encoded data removed]",
            "text/plain": [
              "<Figure size 640x480 with 1 Axes>"
            ]
          },
          "metadata": {},
          "output_type": "display_data"
        }
      ],
      "source": [
        "# horizontal bar chart to show how far facilities are from the nearest stop\n",
        "bins = [0,400,800,1320, matched_df['distance_feet'].max()]\n",
        "labels=['<=400 ft', '401-800 ft', '801-1320 ft', '>1320 ft']\n",
        "matched_df['distance_range'] = pd.cut(matched_df['distance_feet'], bins=bins, labels=labels)\n",
        "\n",
        "matched_df['distance_range'].value_counts().sort_index().plot(\n",
        "    kind='barh',\n",
        "    title='Healthcare Facility Distance to Nearest Bus Stop',\n",
        "    color='#4682B4'\n",
        ")"
      ]
    },
    {
      "cell_type": "markdown",
      "metadata": {
        "id": "fo8qTnYuHekz"
      },
      "source": [
        "Summary Stats Table\n",
        "- Table showing\n",
        "- Total Operational healthcare facilities\n",
        "- Healthcare facilities accessible bby bus\n",
        "- Percentage accessible (<= 1320ft)\n",
        "- Average distance to nearest stop\n",
        "- Max distance to the nearest stop"
      ]
    },
    {
      "cell_type": "markdown",
      "metadata": {
        "id": "Nu6zvBFLJ2r3"
      },
      "source": [
        "Find summary stats before creating the table for easy insertion"
      ]
    },
    {
      "cell_type": "code",
      "execution_count": null,
      "metadata": {
        "id": "-JANw2qxJ6YS"
      },
      "outputs": [],
      "source": [
        "total_facilities = matched_df['facility_name'].nunique()\n",
        "accessible_facilities = matched_df[matched_df['nearby']]['facility_name'].nunique()\n",
        "percentage_accessible = (accessible_facilities / total_facilities) * 100\n",
        "\n",
        "average_distance = round(matched_df['distance_feet'].mean(), 1)\n",
        "max_distance = round(matched_df['distance_feet'].max(), 1)\n",
        "\n",
        "facilities_no_stop = total_facilities - accessible_facilities\n",
        "\n",
        "# Group the bus stops with how many unqiue healthcare facilities there are\n",
        "stop_facility_counts = matched_df[matched_df['nearby']].groupby('bus_stop_name')['facility_name'].nunique()\n",
        "num_stops_serving_facilities = (stop_facility_counts > 0).sum()\n",
        "stops_with_zero = len(bus['StopName'].unique()) - num_stops_serving_facilities\n",
        "\n",
        "average_fac_per_stop = round(stop_facility_counts.mean(), 1)\n",
        "most_connected_stop = stop_facility_counts.idxmax()\n",
        "most_connected_count = stop_facility_counts.max()\n",
        "\n",
        "# clean up category and nearby column\n",
        "enriched_matched_df['category'] = enriched_matched_df['category'].fillna('Unknown')\n",
        "enriched_matched_df['accessible'] = enriched_matched_df['nearby'].map({True: 'Accessible', False: 'Not Accessible'})\n",
        "\n",
        "# Group category and accessibility\n",
        "stacked_data = enriched_matched_df.groupby(['category', 'accessible'])['facility_name'].nunique().reset_index()\n",
        "\n",
        "# rename"
      ]
    },
    {
      "cell_type": "code",
      "execution_count": null,
      "metadata": {
        "id": "MOKVhaTEH0Qu"
      },
      "outputs": [],
      "source": [
        "summary_data = {\n",
        "    'Metric': [\n",
        "        'Total Operational Healthcare Facilities',\n",
        "        'Healthcare Facilities Accessible by Bus',\n",
        "        'Percentage Accessible (<= 1200 ft)',\n",
        "        'Average Distance to Nearest Stop',\n",
        "        'Maximum Distance to Nearest Stop',\n",
        "        'Healthcare Facilities With No Nearby Stop',\n",
        "        'Bus Stops that serve >=1 facility',\n",
        "        'Bus Stops With 0 Nearby Facilities',\n",
        "        'Average Number of Facilities per Stop',\n",
        "        'Most Connected Bus Stop (by count)'\n",
        "        ],\n",
        "    'Value': [\n",
        "        total_facilities,\n",
        "        accessible_facilities,\n",
        "        f'{percentage_accessible}%',\n",
        "        f'{average_distance} feet',\n",
        "        f'{max_distance} feet',\n",
        "        facilities_no_stop,\n",
        "        num_stops_serving_facilities,\n",
        "        stops_with_zero,\n",
        "        average_fac_per_stop,\n",
        "        f'{most_connected_stop} ({most_connected_count})'\n",
        "        ]\n",
        "}\n",
        "\n",
        "summary_df = pd.DataFrame(summary_data)"
      ]
    },
    {
      "cell_type": "code",
      "execution_count": null,
      "metadata": {
        "colab": {
          "base_uri": "https://localhost:8080/"
        },
        "id": "lb4u8wFtbInw",
        "outputId": "7c3c46f4-d8db-4126-ead1-ba58373bf3c6"
      },
      "outputs": [
        {
          "name": "stdout",
          "output_type": "stream",
          "text": [
            "                                      Metric                  Value\n",
            "0    Total Operational Healthcare Facilities                     50\n",
            "1    Healthcare Facilities Accessible by Bus                     45\n",
            "2         Percentage Accessible (<= 1200 ft)                  90.0%\n",
            "3           Average Distance to Nearest Stop             870.7 feet\n",
            "4           Maximum Distance to Nearest Stop            7440.9 feet\n",
            "5  Healthcare Facilities With No Nearby Stop                      5\n",
            "6          Bus Stops that serve >=1 facility                     40\n",
            "7         Bus Stops With 0 Nearby Facilities                   1535\n",
            "8      Average Number of Facilities per Stop                    1.1\n",
            "9         Most Connected Bus Stop (by count)  BUMC/South Campus (2)\n"
          ]
        }
      ],
      "source": [
        "# print summary_data\n",
        "print(summary_df)"
      ]
    },
    {
      "cell_type": "code",
      "execution_count": null,
      "metadata": {
        "id": "jOuing0juxHA"
      },
      "outputs": [],
      "source": [
        "# print the facility that is the farthest distance to a bus stop\n",
        "print(farthest)"
      ]
    },
    {
      "cell_type": "code",
      "execution_count": null,
      "metadata": {
        "id": "eUOkvi_nZvmi"
      },
      "outputs": [],
      "source": [
        "# nearest facility to bus stop\n",
        "closest = enriched_matched_df.loc[enriched_matched_df['distance_feet'].idxmin()]\n",
        "print(closest)"
      ]
    },
    {
      "cell_type": "code",
      "execution_count": null,
      "metadata": {
        "colab": {
          "base_uri": "https://localhost:8080/"
        },
        "id": "IB4MMZ-KvIK2",
        "outputId": "ce272a00-d655-48d6-cb0a-2363ef02e4d9"
      },
      "outputs": [
        {
          "name": "stdout",
          "output_type": "stream",
          "text": [
            "                                facility_name  facility_lat  facility_lon  \\\n",
            "5           Northwest Medical Center Houghton     32.195133   -110.774725   \n",
            "22                         Tucson Family Care     32.225194   -110.850146   \n",
            "29  Carondelet St. Raphael’s Emergency Center     32.116602   -110.857135   \n",
            "34                   Tucson VA Medical Center     32.180984   -110.964507   \n",
            "35         Banner - University Medicine North     32.276634   -110.941818   \n",
            "\n",
            "   business_status       bus_stop_name  bus_stop_lat  bus_stop_lon  \\\n",
            "5      OPERATIONAL    22nd St/Houghton     32.206509   -110.773947   \n",
            "22     OPERATIONAL    Broadway/Jessica     32.221127   -110.847606   \n",
            "29     OPERATIONAL  Craycroft/I-10 TTT     32.126855   -110.875169   \n",
            "34     OPERATIONAL          Ajo/2rd Av     32.177931   -110.963149   \n",
            "35     OPERATIONAL   Campbell Av/Allen     32.276224   -110.943700   \n",
            "\n",
            "    distance_meters  distance_feet  nearby distance_range  \n",
            "5              1601        5252.62   False       >1320 ft  \n",
            "22              784        2572.18   False       >1320 ft  \n",
            "29             2268        7440.95   False       >1320 ft  \n",
            "34              471        1545.28   False       >1320 ft  \n",
            "35              510        1673.23   False       >1320 ft  \n"
          ]
        }
      ],
      "source": [
        "# print the facilities that are flagged as not nearby\n",
        "not_nearby = matched_df[~matched_df['nearby']]\n",
        "print(not_nearby)"
      ]
    },
    {
      "cell_type": "code",
      "execution_count": null,
      "metadata": {
        "id": "nPhWOKU5VAed"
      },
      "outputs": [],
      "source": [
        "print(percentage_accessible)"
      ]
    },
    {
      "cell_type": "markdown",
      "metadata": {
        "id": "9534rbq8LkAH"
      },
      "source": [
        "Save summary_df to a csv"
      ]
    },
    {
      "cell_type": "code",
      "execution_count": null,
      "metadata": {
        "id": "L7oEtuQPLmdO"
      },
      "outputs": [],
      "source": [
        "# Save the summary_df to a csv and download it\n",
        "summary_df.to_csv('summary_stats_table.csv', index=False)\n",
        "from google.colab import files\n",
        "files.download('summary_stats_table.csv')"
      ]
    }
  ],
  "metadata": {
    "colab": {
      "provenance": []
    },
    "kernelspec": {
      "display_name": "Python 3",
      "name": "python3"
    },
    "language_info": {
      "name": "python"
    }
  },
  "nbformat": 4,
  "nbformat_minor": 0
}
